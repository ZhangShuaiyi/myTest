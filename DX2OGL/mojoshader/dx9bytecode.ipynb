{
 "cells": [
  {
   "cell_type": "code",
   "execution_count": 1,
   "metadata": {
    "collapsed": true
   },
   "outputs": [],
   "source": [
    "vertex_data = None\n",
    "with open('VertexShader_scale.fxc', 'rb') as f:\n",
    "    vertex_data = f.read()"
   ]
  },
  {
   "cell_type": "code",
   "execution_count": 7,
   "metadata": {
    "collapsed": false
   },
   "outputs": [
    {
     "name": "stdout",
     "output_type": "stream",
     "text": [
      "0xfffe0300\n"
     ]
    }
   ],
   "source": [
    "print(hex(int.from_bytes(vertex_data[:4], 'little')))"
   ]
  },
  {
   "cell_type": "code",
   "execution_count": 9,
   "metadata": {
    "collapsed": false
   },
   "outputs": [
    {
     "name": "stdout",
     "output_type": "stream",
     "text": [
      "vs 0300\n"
     ]
    }
   ],
   "source": [
    "version_token = int.from_bytes(vertex_data[:4], 'little')\n",
    "minor = version_token&0xff\n",
    "major = (version_token>>8)&0xff\n",
    "# pixel shader: 0xFFFF\n",
    "# vertex shader: 0xFFFE\n",
    "shadertype = (version_token>>16)&0xffff\n",
    "print('%s %02d%02d' % ('vs' if shadertype==0xfffe else 'ps', major, minor))"
   ]
  },
  {
   "cell_type": "code",
   "execution_count": 12,
   "metadata": {
    "collapsed": false
   },
   "outputs": [
    {
     "name": "stdout",
     "output_type": "stream",
     "text": [
      "0x21fffe\n",
      "count:33\n"
     ]
    }
   ],
   "source": [
    "comment_token = int.from_bytes(vertex_data[4:8], 'little')\n",
    "print(hex(comment_token))\n",
    "# [15:00] is 0xFFFE\n",
    "# [30:16] length\n",
    "# [31] must be zero\n",
    "tokcount = (comment_token>>16)&0xffff\n",
    "print('count:%d' % tokcount)"
   ]
  },
  {
   "cell_type": "code",
   "execution_count": 14,
   "metadata": {
    "collapsed": false
   },
   "outputs": [
    {
     "name": "stdout",
     "output_type": "stream",
     "text": [
      "b'CTAB'\n",
      "Have constant_table\n"
     ]
    }
   ],
   "source": [
    "print(vertex_data[8:12])\n",
    "if vertex_data[8:12].decode('utf-8') == 'CTAB':\n",
    "    print('Have constant_table')"
   ]
  },
  {
   "cell_type": "code",
   "execution_count": 16,
   "metadata": {
    "collapsed": false
   },
   "outputs": [
    {
     "name": "stdout",
     "output_type": "stream",
     "text": [
      "size:28 creator:79 version:0xfffe0300 constants:1 constantinfo:28 target:72\n"
     ]
    }
   ],
   "source": [
    "size = int.from_bytes(vertex_data[12:16], 'little')\n",
    "creator = int.from_bytes(vertex_data[16:20], 'little')\n",
    "version = int.from_bytes(vertex_data[20:24], 'little')\n",
    "constants = int.from_bytes(vertex_data[24:28], 'little')\n",
    "constantinfo = int.from_bytes(vertex_data[28:32], 'little')\n",
    "flag = int.from_bytes(vertex_data[32:36], 'little')\n",
    "target = int.from_bytes(vertex_data[36:40], 'little')\n",
    "print('size:%d creator:%d version:0x%x constants:%d constantinfo:%d target:%d' % (size, creator, version, \n",
    "                    constants, constantinfo, target))"
   ]
  },
  {
   "cell_type": "code",
   "execution_count": 33,
   "metadata": {
    "collapsed": false
   },
   "outputs": [
    {
     "name": "stdout",
     "output_type": "stream",
     "text": [
      "name:48 regset:2 regidx:0 regcnt:1 typeinf:56 defval:0\n"
     ]
    }
   ],
   "source": [
    "# constant\n",
    "name = int.from_bytes(vertex_data[40:44], 'little')\n",
    "regset = int.from_bytes(vertex_data[44:46], 'little')\n",
    "regidx = int.from_bytes(vertex_data[46:48], 'little')\n",
    "regcnt = int.from_bytes(vertex_data[48:50], 'little')\n",
    "reserved = int.from_bytes(vertex_data[50:52], 'little')\n",
    "typeinf = int.from_bytes(vertex_data[52:56], 'little')\n",
    "defval = int.from_bytes(vertex_data[56:60], 'little')\n",
    "print('name:%d regset:%d regidx:%d regcnt:%d typeinf:%d defval:%d' % (name, regset, regidx, regcnt,\n",
    "                                        typeinf, defval))"
   ]
  },
  {
   "cell_type": "code",
   "execution_count": 34,
   "metadata": {
    "collapsed": false
   },
   "outputs": [
    {
     "name": "stdout",
     "output_type": "stream",
     "text": [
      "scale\n"
     ]
    }
   ],
   "source": [
    "# 获取常量名称start+name = 12 + 48\n",
    "name_end = vertex_data.find(0, 60)\n",
    "constant_name = vertex_data[60:name_end].decode('utf-8')\n",
    "print(constant_name)"
   ]
  },
  {
   "cell_type": "code",
   "execution_count": 38,
   "metadata": {
    "collapsed": false
   },
   "outputs": [
    {
     "name": "stdout",
     "output_type": "stream",
     "text": [
      "class:0 type:3 rows:1 cloumns:1 elements:1 member_count:0 memberinfo:0\n"
     ]
    }
   ],
   "source": [
    "# ctab_typeinfo 位置:start+typeinf = 12 + 56 = 68\n",
    "parameter_class = int.from_bytes(vertex_data[68:70], 'little')\n",
    "parameter_type = int.from_bytes(vertex_data[70:72], 'little')\n",
    "rows = int.from_bytes(vertex_data[72:74], 'little')\n",
    "columns = int.from_bytes(vertex_data[74:76], 'little')\n",
    "elements = int.from_bytes(vertex_data[76:78], 'little')\n",
    "member_count = int.from_bytes(vertex_data[78:80], 'little')\n",
    "memberinfo = int.from_bytes(vertex_data[80:84], 'little')\n",
    "print('class:%d type:%d rows:%d cloumns:%d elements:%d member_count:%d memberinfo:%d' % (parameter_class,\n",
    "                            parameter_type, rows, columns, elements, member_count, memberinfo))"
   ]
  },
  {
   "cell_type": "code",
   "execution_count": 47,
   "metadata": {
    "collapsed": false
   },
   "outputs": [
    {
     "name": "stdout",
     "output_type": "stream",
     "text": [
      "vs_3_0\u0000Microsoft (R) HLSL Shader Compiler 9.29.952.3111\u0000\n"
     ]
    }
   ],
   "source": [
    "# member_count为0，不用再解析StructMember\n",
    "# tokcount为33，则结尾为8+33*4=140\n",
    "print(vertex_data[84:140].decode('utf-8'))"
   ]
  },
  {
   "cell_type": "code",
   "execution_count": null,
   "metadata": {
    "collapsed": true
   },
   "outputs": [],
   "source": []
  }
 ],
 "metadata": {
  "kernelspec": {
   "display_name": "Python 3",
   "language": "python",
   "name": "python3"
  },
  "language_info": {
   "codemirror_mode": {
    "name": "ipython",
    "version": 3
   },
   "file_extension": ".py",
   "mimetype": "text/x-python",
   "name": "python",
   "nbconvert_exporter": "python",
   "pygments_lexer": "ipython3",
   "version": "3.5.1"
  }
 },
 "nbformat": 4,
 "nbformat_minor": 0
}
